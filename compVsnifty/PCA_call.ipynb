{
 "cells": [
  {
   "cell_type": "code",
   "execution_count": 7,
   "id": "afb814d3-970a-44ab-819b-aeccf11ce09b",
   "metadata": {},
   "outputs": [],
   "source": [
    "import pickle\n",
    "loaded_pca = pickle.load(open('pca_model.pkl', 'rb'))"
   ]
  },
  {
   "cell_type": "code",
   "execution_count": null,
   "id": "6f345b38-1740-492e-8dba-b401f70eebc1",
   "metadata": {},
   "outputs": [],
   "source": [
    "# put dataframe here.\n",
    "transformed_data = loaded_pca.transform(X)"
   ]
  }
 ],
 "metadata": {
  "kernelspec": {
   "display_name": "Python 3 (ipykernel)",
   "language": "python",
   "name": "python3"
  },
  "language_info": {
   "codemirror_mode": {
    "name": "ipython",
    "version": 3
   },
   "file_extension": ".py",
   "mimetype": "text/x-python",
   "name": "python",
   "nbconvert_exporter": "python",
   "pygments_lexer": "ipython3",
   "version": "3.12.4"
  }
 },
 "nbformat": 4,
 "nbformat_minor": 5
}
