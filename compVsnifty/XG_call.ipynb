{
 "cells": [
  {
   "cell_type": "code",
   "execution_count": 1,
   "id": "567ac74b-0ac4-4313-b184-8073d0d7bd71",
   "metadata": {},
   "outputs": [],
   "source": [
    "import pickle\n",
    "# Load the model using pickle\n",
    "with open('xgboost_model.pkl', 'rb') as f:\n",
    "    loaded_model = pickle.load(f)\n"
   ]
  },
  {
   "cell_type": "code",
   "execution_count": null,
   "id": "c4630b1b-674e-4e88-ac11-b144c4915c60",
   "metadata": {},
   "outputs": [],
   "source": [
    "# Assuming `X_test` is your test data\n",
    "y_pred = loaded_model.predict(X_test)\n",
    "y_pred_proba = loaded_model.predict_proba(X_test)"
   ]
  }
 ],
 "metadata": {
  "kernelspec": {
   "display_name": "Python 3 (ipykernel)",
   "language": "python",
   "name": "python3"
  },
  "language_info": {
   "codemirror_mode": {
    "name": "ipython",
    "version": 3
   },
   "file_extension": ".py",
   "mimetype": "text/x-python",
   "name": "python",
   "nbconvert_exporter": "python",
   "pygments_lexer": "ipython3",
   "version": "3.12.4"
  }
 },
 "nbformat": 4,
 "nbformat_minor": 5
}
