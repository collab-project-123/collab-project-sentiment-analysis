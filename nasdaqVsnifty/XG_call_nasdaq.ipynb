{
 "cells": [
  {
   "cell_type": "code",
   "execution_count": 2,
   "id": "e61ef1ce-5c45-487c-8ef1-a9d620324de5",
   "metadata": {},
   "outputs": [],
   "source": [
    "import pickle\n",
    "# Load the model using pickle\n",
    "with open('xgboost_model_niftyVsnasdaq.pkl', 'rb') as f:\n",
    "    loaded_model = pickle.load(f)"
   ]
  },
  {
   "cell_type": "code",
   "execution_count": 6,
   "id": "792c2db0-42de-42b7-8198-759f2a2c22d3",
   "metadata": {},
   "outputs": [],
   "source": [
    "''' X_test contains 'nasdaq_close_percentage_change','nifty_close_percentage_change','nasdaq_open_percentage_change','nifty_open_percentage_change',\n",
    "'nasdaq_high_percentage_change','nifty_high_percentage_change','nasdaq_low_percentage_change','nifty_low_percentage_change'.\n",
    "where 'close/open/high/low_percentage_change' is (change in values in prev and new values) X 100.\n",
    "\n",
    "so we can take last 2 days close & open & high & low as input, then calculate the changes.\n",
    "'''\n",
    "import pandas as pd\n",
    "# change the values as the input comes.\n",
    "X_test_dict = {\n",
    "    'nasdaq_close_percentage_change': [0],\n",
    "    'nifty_close_percentage_change': [1],\n",
    "    'nasdaq_open_percentage_change': [0],\n",
    "    'nifty_open_percentage_change': [0],\n",
    "    'nasdaq_high_percentage_change': [1],\n",
    "    'nifty_high_percentage_change': [0],\n",
    "    'nasdaq_low_percentage_change': [0],\n",
    "    'nifty_low_percentage_change': [0]\n",
    "}\n",
    "\n",
    "X_test = pd.DataFrame(X_test_dict)\n",
    "\n",
    "y_pred = loaded_model.predict(X_test)\n",
    "y_pred_proba = loaded_model.predict_proba(X_test)"
   ]
  },
  {
   "cell_type": "code",
   "execution_count": 8,
   "id": "63a63560-5125-4c14-84d5-d1ec8e771b8d",
   "metadata": {},
   "outputs": [
    {
     "data": {
      "text/plain": [
       "array([1])"
      ]
     },
     "execution_count": 8,
     "metadata": {},
     "output_type": "execute_result"
    }
   ],
   "source": []
  },
  {
   "cell_type": "code",
   "execution_count": 14,
   "id": "0e5cd8dd-d2fd-4517-bb7b-43fc71bfc103",
   "metadata": {},
   "outputs": [
    {
     "name": "stdout",
     "output_type": "stream",
     "text": [
      "[1]\n"
     ]
    }
   ],
   "source": []
  },
  {
   "cell_type": "code",
   "execution_count": null,
   "id": "8d028c2c-0236-4d98-b19b-5f305b41cd72",
   "metadata": {},
   "outputs": [],
   "source": []
  }
 ],
 "metadata": {
  "kernelspec": {
   "display_name": "Python 3 (ipykernel)",
   "language": "python",
   "name": "python3"
  },
  "language_info": {
   "codemirror_mode": {
    "name": "ipython",
    "version": 3
   },
   "file_extension": ".py",
   "mimetype": "text/x-python",
   "name": "python",
   "nbconvert_exporter": "python",
   "pygments_lexer": "ipython3",
   "version": "3.12.4"
  }
 },
 "nbformat": 4,
 "nbformat_minor": 5
}
