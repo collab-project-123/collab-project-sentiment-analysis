{
 "cells": [
  {
   "cell_type": "code",
   "execution_count": 7,
   "id": "567ac74b-0ac4-4313-b184-8073d0d7bd71",
   "metadata": {},
   "outputs": [],
   "source": [
    "import pickle\n",
    "# Load the model using pickle\n",
    "with open('xgboost_model_compVsnifty.pkl', 'rb') as f:\n",
    "    loaded_model = pickle.load(f)\n"
   ]
  },
  {
   "cell_type": "code",
   "execution_count": 11,
   "id": "c4630b1b-674e-4e88-ac11-b144c4915c60",
   "metadata": {},
   "outputs": [],
   "source": [
    "''' X_test contains 'Infosys net profit','Nifty change_profit','Nifty change_close','TCS change_profit','Infosys change_profit','HCL change_profit',\n",
    "'Nifty change_sales','TCS change_sales','Infosys change_sales','Last_close'.\n",
    "where 'net profit' is this Quarters profit, 'change_profit' is percent change in profit from last year, 'change_sales' is percent change in sales from last year.\n",
    "\n",
    "so we can take last 2 quarters profit and sales as input, then calculate the changes.\n",
    "'''\n",
    "import pandas as pd\n",
    "\n",
    "#change values as input comes\n",
    "X_test_dict = {\n",
    "    'Infosys net profit': [0],\n",
    "    'Nifty change_profit': [1],\n",
    "    'Nifty change_close': [0],\n",
    "    'TCS change_profit': [0],\n",
    "    'Infosys change_profit': [1],\n",
    "    'HCL change_profit': [0],\n",
    "    'Nifty change_sales': [0],\n",
    "    'TCS change_sales': [0],\n",
    "    'Infosys change_sales': [1],\n",
    "    'Last_close': [1]\n",
    "}\n",
    "\n",
    "X_test = pd.DataFrame(X_test_dict)\n",
    "\n",
    "y_pred = loaded_model.predict(X_test)\n",
    "y_pred_proba = loaded_model.predict_proba(X_test)\n"
   ]
  },
  {
   "cell_type": "code",
   "execution_count": 13,
   "id": "d7b069d6-1263-46d9-b501-7d41a35ee158",
   "metadata": {},
   "outputs": [
    {
     "data": {
      "text/plain": [
       "array([1])"
      ]
     },
     "execution_count": 13,
     "metadata": {},
     "output_type": "execute_result"
    }
   ],
   "source": []
  },
  {
   "cell_type": "code",
   "execution_count": null,
   "id": "368183af-76df-4774-adb3-a4d0544474aa",
   "metadata": {},
   "outputs": [],
   "source": []
  }
 ],
 "metadata": {
  "kernelspec": {
   "display_name": "Python 3 (ipykernel)",
   "language": "python",
   "name": "python3"
  },
  "language_info": {
   "codemirror_mode": {
    "name": "ipython",
    "version": 3
   },
   "file_extension": ".py",
   "mimetype": "text/x-python",
   "name": "python",
   "nbconvert_exporter": "python",
   "pygments_lexer": "ipython3",
   "version": "3.12.4"
  }
 },
 "nbformat": 4,
 "nbformat_minor": 5
}
